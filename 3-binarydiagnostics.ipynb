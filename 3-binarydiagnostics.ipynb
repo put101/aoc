{
 "cells": [
  {
   "cell_type": "code",
   "execution_count": 211,
   "metadata": {},
   "outputs": [],
   "source": [
    "import pandas as pd\n",
    "import numpy as np"
   ]
  },
  {
   "cell_type": "code",
   "execution_count": 212,
   "metadata": {},
   "outputs": [
    {
     "data": {
      "text/html": [
       "<div>\n",
       "<style scoped>\n",
       "    .dataframe tbody tr th:only-of-type {\n",
       "        vertical-align: middle;\n",
       "    }\n",
       "\n",
       "    .dataframe tbody tr th {\n",
       "        vertical-align: top;\n",
       "    }\n",
       "\n",
       "    .dataframe thead th {\n",
       "        text-align: right;\n",
       "    }\n",
       "</style>\n",
       "<table border=\"1\" class=\"dataframe\">\n",
       "  <thead>\n",
       "    <tr style=\"text-align: right;\">\n",
       "      <th></th>\n",
       "      <th>bits</th>\n",
       "    </tr>\n",
       "  </thead>\n",
       "  <tbody>\n",
       "    <tr>\n",
       "      <th>0</th>\n",
       "      <td>000110010001</td>\n",
       "    </tr>\n",
       "    <tr>\n",
       "      <th>1</th>\n",
       "      <td>101000110000</td>\n",
       "    </tr>\n",
       "    <tr>\n",
       "      <th>2</th>\n",
       "      <td>000110010111</td>\n",
       "    </tr>\n",
       "    <tr>\n",
       "      <th>3</th>\n",
       "      <td>100011100010</td>\n",
       "    </tr>\n",
       "    <tr>\n",
       "      <th>4</th>\n",
       "      <td>111001100001</td>\n",
       "    </tr>\n",
       "    <tr>\n",
       "      <th>...</th>\n",
       "      <td>...</td>\n",
       "    </tr>\n",
       "    <tr>\n",
       "      <th>995</th>\n",
       "      <td>000010010001</td>\n",
       "    </tr>\n",
       "    <tr>\n",
       "      <th>996</th>\n",
       "      <td>101010101110</td>\n",
       "    </tr>\n",
       "    <tr>\n",
       "      <th>997</th>\n",
       "      <td>111100111111</td>\n",
       "    </tr>\n",
       "    <tr>\n",
       "      <th>998</th>\n",
       "      <td>000010100010</td>\n",
       "    </tr>\n",
       "    <tr>\n",
       "      <th>999</th>\n",
       "      <td>011010111101</td>\n",
       "    </tr>\n",
       "  </tbody>\n",
       "</table>\n",
       "<p>1000 rows × 1 columns</p>\n",
       "</div>"
      ],
      "text/plain": [
       "             bits\n",
       "0    000110010001\n",
       "1    101000110000\n",
       "2    000110010111\n",
       "3    100011100010\n",
       "4    111001100001\n",
       "..            ...\n",
       "995  000010010001\n",
       "996  101010101110\n",
       "997  111100111111\n",
       "998  000010100010\n",
       "999  011010111101\n",
       "\n",
       "[1000 rows x 1 columns]"
      ]
     },
     "execution_count": 212,
     "metadata": {},
     "output_type": "execute_result"
    }
   ],
   "source": [
    "df = pd.read_csv('input3.txt', header=None,names=[\"bits\"],sep=\" \", dtype={'bits':np.str_})\n",
    "df"
   ]
  },
  {
   "cell_type": "code",
   "execution_count": 213,
   "metadata": {},
   "outputs": [
    {
     "name": "stdout",
     "output_type": "stream",
     "text": [
      "power=2954600\n",
      "gamma='001110100111',int(gamma,2)=935\n",
      "epsilon='110001011000',int(epsilon,2)=3160\n"
     ]
    }
   ],
   "source": [
    "gamma = \"\"\n",
    "epsilon = \"\"\n",
    "for i in range(12):\n",
    "    if sum(df.bits.str[i]=='1') > sum(df.bits.str[i]=='0'):\n",
    "        gamma += '1'\n",
    "        epsilon += '0'\n",
    "    else:\n",
    "        gamma += '0'\n",
    "        epsilon += '1'  \n",
    "\n",
    "\n",
    "power = int(gamma,2) * int(epsilon,2)\n",
    "print (f\"{power=}\")\n",
    "print(f\"{gamma=},{int(gamma,2)=}\")\n",
    "print(f\"{epsilon=},{int(epsilon,2)=}\")\n"
   ]
  },
  {
   "cell_type": "code",
   "execution_count": 268,
   "metadata": {},
   "outputs": [
    {
     "name": "stdout",
     "output_type": "stream",
     "text": [
      "340    000110000110\n",
      "Name: bits, dtype: object\n",
      "28    101101010110\n",
      "Name: bits, dtype: object\n"
     ]
    }
   ],
   "source": [
    "ox = df\n",
    "for i in range(12):\n",
    "    if len(ox) > 1:\n",
    "        mcbit = sum(ox.bits.str[i]=='1') > sum(ox.bits.str[i]=='0')\n",
    "        ox = ox[ox.bits.str[i]==str(int(mcbit))]\n",
    "        \n",
    "    \n",
    "print(ox.bits)\n",
    "\n",
    "co2 = df\n",
    "for i in range(12):\n",
    "    if len(co2) > 1:\n",
    "        lcbit = sum(co2.bits.str[i]=='1') < sum(co2.bits.str[i]=='0')\n",
    "        co2 = co2[co2.bits.str[i]==str(int(lcbit))]\n",
    "\n",
    "print(co2.bits)\n",
    "\n",
    "    "
   ]
  },
  {
   "cell_type": "code",
   "execution_count": 271,
   "metadata": {},
   "outputs": [
    {
     "name": "stdout",
     "output_type": "stream",
     "text": [
      "1662846\n"
     ]
    }
   ],
   "source": [
    "from collections import Counter\n",
    "\n",
    "ll = [x for x in open('input3.txt').read().strip().split('\\n')]\n",
    "\n",
    "theta = ''\n",
    "epsilon = ''\n",
    "for i in range(len(ll[0])):\n",
    "\tcommon = Counter([x[i] for x in ll])\n",
    "\n",
    "\tif common['0'] > common['1']:\n",
    "\t\tll = [x for x in ll if x[i] == '0']\n",
    "\telse:\n",
    "\t\tll = [x for x in ll if x[i] == '1']\n",
    "\ttheta = ll[0]\n",
    "\n",
    "ll = [x for x in open('input3.txt').read().strip().split('\\n')]\n",
    "for i in range(len(ll[0])):\n",
    "\tcommon = Counter([x[i] for x in ll])\n",
    "\n",
    "\tif common['0'] > common['1']:\n",
    "\t\tll = [x for x in ll if x[i] == '1']\n",
    "\telse:\n",
    "\t\tll = [x for x in ll if x[i] == '0']\n",
    "\tif ll:\n",
    "\t\tepsilon = ll[0]\n",
    "print(int(theta,2)*int(epsilon,2))"
   ]
  },
  {
   "cell_type": "code",
   "execution_count": null,
   "metadata": {},
   "outputs": [],
   "source": []
  }
 ],
 "metadata": {
  "interpreter": {
   "hash": "aee8b7b246df8f9039afb4144a1f6fd8d2ca17a180786b69acc140d282b71a49"
  },
  "kernelspec": {
   "display_name": "Python 3.9.7 64-bit",
   "language": "python",
   "name": "python3"
  },
  "language_info": {
   "codemirror_mode": {
    "name": "ipython",
    "version": 3
   },
   "file_extension": ".py",
   "mimetype": "text/x-python",
   "name": "python",
   "nbconvert_exporter": "python",
   "pygments_lexer": "ipython3",
   "version": "3.9.7"
  },
  "orig_nbformat": 4
 },
 "nbformat": 4,
 "nbformat_minor": 2
}
